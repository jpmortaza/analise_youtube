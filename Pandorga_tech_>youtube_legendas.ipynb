{
  "nbformat": 4,
  "nbformat_minor": 0,
  "metadata": {
    "colab": {
      "name": "Pandorga_tech->youtube_legendas.ipynb",
      "provenance": [],
      "authorship_tag": "ABX9TyM0mpnK0mJ1gyqzP9db9q8G",
      "include_colab_link": true
    },
    "kernelspec": {
      "name": "python3",
      "display_name": "Python 3"
    },
    "language_info": {
      "name": "python"
    }
  },
  "cells": [
    {
      "cell_type": "markdown",
      "metadata": {
        "id": "view-in-github",
        "colab_type": "text"
      },
      "source": [
        "<a href=\"https://colab.research.google.com/github/jpmortaza/youtube_scrap_legendas/blob/main/Pandorga_tech_%3Eyoutube_legendas.ipynb\" target=\"_parent\"><img src=\"https://colab.research.google.com/assets/colab-badge.svg\" alt=\"Open In Colab\"/></a>"
      ]
    },
    {
      "cell_type": "markdown",
      "source": [
        "# PANDORGA TECH - YOUTUBE TRANSCRIB\n",
        "Esse script Sugiu da necessidade de realizar a analise semantica de diversos vídeos do youtube, precisavamos criar um relatório com as pautas mais abordadas por um candidato em seus vídeos, o interessante é que ele tinha mais de mil vídeos no youtube, o que seria impossível de ser realizado manualmente ou seja assistindo os vídeos.\n",
        "\n",
        "Instruções de utilização.\n",
        "1. Nos arquivos abra o arquivo de txt id_youtube\n",
        "2. Insira nele os links dos vídeos que quer analisar. (vídeos que contenham legenda)\n",
        "3. Execute o Buscar.\n",
        "4. Os resultados serão salvos em um arquivo txt com o nome transcricao.\n",
        "5. Faça donwload do arquivo e formate da forma que for mais útil.\n",
        "\n",
        "\n",
        "Assista o vídeo abaixo:\n",
        "[Vídeo Youtube](https://www.youtube.com/watch?v=42n878GWZeE)\n"
      ],
      "metadata": {
        "id": "lgYhlFDq9PrF"
      }
    },
    {
      "cell_type": "markdown",
      "source": [
        "# BUSCAR"
      ],
      "metadata": {
        "id": "ycf29wnsubNs"
      }
    },
    {
      "cell_type": "code",
      "source": [
        "!pip install youtube-transcript-api\n",
        "!pip install pytube"
      ],
      "metadata": {
        "colab": {
          "base_uri": "https://localhost:8080/"
        },
        "id": "ExsRYjLAt6Bp",
        "outputId": "88895593-0d87-46f1-a033-af7a3be16293"
      },
      "execution_count": null,
      "outputs": [
        {
          "output_type": "stream",
          "name": "stdout",
          "text": [
            "Requirement already satisfied: youtube-transcript-api in /usr/local/lib/python3.7/dist-packages (0.4.3)\n",
            "Requirement already satisfied: requests in /usr/local/lib/python3.7/dist-packages (from youtube-transcript-api) (2.23.0)\n",
            "Requirement already satisfied: certifi>=2017.4.17 in /usr/local/lib/python3.7/dist-packages (from requests->youtube-transcript-api) (2021.10.8)\n",
            "Requirement already satisfied: chardet<4,>=3.0.2 in /usr/local/lib/python3.7/dist-packages (from requests->youtube-transcript-api) (3.0.4)\n",
            "Requirement already satisfied: urllib3!=1.25.0,!=1.25.1,<1.26,>=1.21.1 in /usr/local/lib/python3.7/dist-packages (from requests->youtube-transcript-api) (1.24.3)\n",
            "Requirement already satisfied: idna<3,>=2.5 in /usr/local/lib/python3.7/dist-packages (from requests->youtube-transcript-api) (2.10)\n",
            "Requirement already satisfied: pytube in /usr/local/lib/python3.7/dist-packages (12.0.0)\n"
          ]
        }
      ]
    },
    {
      "cell_type": "code",
      "source": [
        "from pytube import extract\n",
        "from youtube_transcript_api import YouTubeTranscriptApi\n",
        "with open(\"id_youtube.txt\") as file:\n",
        "    for link in file:\n",
        "        id=extract.video_id(link)\n",
        "        srt = YouTubeTranscriptApi.get_transcript(id,languages=['pt'])\n",
        "        with open(\"transcricao.txt\", \"a\") as f:\n",
        "            for i in srt:\n",
        "                f.write(\"{},{}\\n\".format(link,i))"
      ],
      "metadata": {
        "id": "vptZdh3BBqOd"
      },
      "execution_count": null,
      "outputs": []
    }
  ]
}